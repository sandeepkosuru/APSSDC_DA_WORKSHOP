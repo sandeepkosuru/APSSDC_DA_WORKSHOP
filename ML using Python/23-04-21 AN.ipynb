{
 "cells": [
  {
   "cell_type": "markdown",
   "metadata": {},
   "source": [
    "## Decision tree\n",
    "- Feature selection parameters\n",
    "1. gini\n",
    "    - varies from 0 to 1\n",
    "    - the sum of the all probalbilities, subtracted from the one\n",
    "    - 1 - sum(p(all features))^2\n",
    "2. Entropy\n",
    "    - varies from 0 to 1\n",
    "    - to find impurity\n",
    "    - entropy(H) = - sum(p(x)log2p(x))\n",
    "3. Information gain\n",
    "    - to reduce entropy value\n",
    "    - IG = H - avg(H)"
   ]
  },
  {
   "cell_type": "code",
   "execution_count": 5,
   "metadata": {},
   "outputs": [],
   "source": [
    "from sklearn.tree import export_graphviz\n",
    "#from sklearn.externals.six import StringIO\n",
    "from IPython.display import Image\n",
    "import pydotplus "
   ]
  },
  {
   "cell_type": "code",
   "execution_count": 6,
   "metadata": {},
   "outputs": [],
   "source": [
    "from six import StringIO"
   ]
  },
  {
   "cell_type": "code",
   "execution_count": null,
   "metadata": {},
   "outputs": [],
   "source": [
    "export_graphviz(dtc,out_file=)"
   ]
  }
 ],
 "metadata": {
  "kernelspec": {
   "display_name": "Python 3",
   "language": "python",
   "name": "python3"
  },
  "language_info": {
   "codemirror_mode": {
    "name": "ipython",
    "version": 3
   },
   "file_extension": ".py",
   "mimetype": "text/x-python",
   "name": "python",
   "nbconvert_exporter": "python",
   "pygments_lexer": "ipython3",
   "version": "3.8.5"
  }
 },
 "nbformat": 4,
 "nbformat_minor": 4
}
